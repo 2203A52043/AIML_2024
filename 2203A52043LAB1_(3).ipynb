{
  "nbformat": 4,
  "nbformat_minor": 0,
  "metadata": {
    "colab": {
      "provenance": []
    },
    "kernelspec": {
      "name": "python3",
      "display_name": "Python 3"
    },
    "language_info": {
      "name": "python"
    }
  },
  "cells": [
    {
      "cell_type": "code",
      "execution_count": 1,
      "metadata": {
        "colab": {
          "base_uri": "https://localhost:8080/"
        },
        "id": "gvEpQ9Q5vMP6",
        "outputId": "b98c26f9-ea75-420e-dc19-183b6d83026d"
      },
      "outputs": [
        {
          "output_type": "stream",
          "name": "stdout",
          "text": [
            "Data from Excel:\n",
            "           Table 1  Unnamed: 1 Unnamed: 2\n",
            "0             name        Htno    Surname\n",
            "1  Jeshwanth kumar  2203A52043          N\n",
            "2      Siddharatha  2203A52045          N\n",
            "3         Aniritha  2203A52032          K\n",
            "4            Navya  2203A52057          T\n",
            "\n",
            "Data from CSV:\n",
            "          name        Htno Surname\n",
            "0    Jeshwanth  2203A52043       N\n",
            "1  Siddharatha  2203A52045       N\n",
            "2     Aniritha  2203A52032       K\n",
            "3        Navya  2203A52057       T\n",
            "\n",
            "Data from TSV:\n",
            "          name        Htno Surname  Unnamed: 3  Unnamed: 4  Unnamed: 5\n",
            "0    Jeshwanth  2203A52043       N         NaN         NaN         NaN\n",
            "1     Aniritha  2203A52032       K         NaN         NaN         NaN\n",
            "2  Siddharatha  2203A52045       N         NaN         NaN         NaN\n",
            "3        Navya  2203A52057       N         NaN         NaN         NaN\n"
          ]
        },
        {
          "output_type": "stream",
          "name": "stderr",
          "text": [
            "<ipython-input-1-64e7c3ed1b8f>:23: FutureWarning: The error_bad_lines argument has been deprecated and will be removed in a future version. Use on_bad_lines in the future.\n",
            "\n",
            "\n",
            "  df_url = pd.read_csv(url, error_bad_lines=False)\n"
          ]
        },
        {
          "output_type": "stream",
          "name": "stdout",
          "text": [
            "An error occurred: HTTP Error 404: Not Found\n"
          ]
        }
      ],
      "source": [
        "import pandas as pd\n",
        "# Read Excel file\n",
        "data_excel = pd.read_excel('/content/Jeshu.aiml.xlsx')\n",
        "# Read CSV file\n",
        "data_csv = pd.read_csv('/content/jeshu.aiml.csv')\n",
        "# Read TSV file (Tab-separated values)\n",
        "data_tsv = pd.read_csv('/content/jeshu.aiml.txt', sep='\\t')\n",
        "\n",
        "print(\"Data from Excel:\")\n",
        "print(data_excel)\n",
        "\n",
        "print(\"\\nData from CSV:\")\n",
        "print(data_csv)\n",
        "\n",
        "print(\"\\nData from TSV:\")\n",
        "print(data_tsv)\n",
        "\n",
        "import pandas as pd\n",
        "\n",
        "url = 'https://raw.githubusercontent.com/jeshu345/jeshu.aiml/main/path/to/your/file.csv'\n",
        "\n",
        "try:\n",
        "    df_url = pd.read_csv(url, error_bad_lines=False)\n",
        "    print(\"\\nData from URL:\")\n",
        "    print(df_url)\n",
        "except Exception as e:\n",
        "    print(f\"An error occurred: {e}\")"
      ]
    }
  ]
}